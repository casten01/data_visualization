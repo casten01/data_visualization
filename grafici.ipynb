{
 "cells": [
  {
   "cell_type": "code",
   "execution_count": null,
   "metadata": {},
   "outputs": [],
   "source": [
    "import pandas as pd\n",
    "import matplotlib.pyplot as plt\n",
    "from matplotlib.lines import Line2D\n",
    "import numpy as np\n",
    "import squarify  # Per creare la treemap\n",
    "import seaborn as sns\n",
    "from math import pi\n",
    "\n",
    "dati = pd.read_excel('archive/milano_housing_02_2_23.xlsx')"
   ]
  },
  {
   "cell_type": "markdown",
   "metadata": {},
   "source": [
    "# GRAFICO A TORTA CLASSI ENERGETICHE"
   ]
  },
  {
   "cell_type": "code",
   "execution_count": null,
   "metadata": {},
   "outputs": [],
   "source": [
    "df_selezionato = dati[dati['year_of_build'] >= 2018].copy()\n",
    "\n",
    "def estrai_prima_lettera(efficienza):\n",
    "    prima_lettera = efficienza[0].upper()\n",
    "    return prima_lettera\n",
    "\n",
    "df_selezionato['energy_efficiency'] = df_selezionato['energy_efficiency'].astype(str)\n",
    "df_selezionato['classe_energetica'] = df_selezionato['energy_efficiency'].apply(estrai_prima_lettera)\n",
    "\n",
    "ordine_indici = [\"A\", \"B\", \"C\", \"D\", \"F\", \"G\"]\n",
    "colori_legenda = ['#005700', '#3bb300', '#7fe800', '#ffcc00', '#ff0000', '#a30000']\n",
    "\n",
    "frequenze_assolute = df_selezionato['classe_energetica'].value_counts().reindex(ordine_indici, fill_value=0)\n",
    "explode = (0, 0.1, 0.2, 0.3, 0.4, 0.5)\n",
    "\n",
    "totali = frequenze_assolute.sum()\n",
    "percentuali = (frequenze_assolute / totali) * 100\n",
    "\n",
    "etichette_legenda = [f\"{etichetta} ({percentuale:.1f}%)\" for etichetta, percentuale in zip(ordine_indici, percentuali)]\n",
    "\n",
    "legenda_personalizzata = [Line2D([0], [0], marker='o', color='w', label=etichetta, markerfacecolor=colore, markersize=10)\n",
    "                          for colore, etichetta in zip(colori_legenda, etichette_legenda)]\n",
    "\n",
    "plt.figure(figsize=(10, 10))\n",
    "plt.pie(frequenze_assolute, explode=explode, labels=ordine_indici, startangle=140, colors=colori_legenda, labeldistance=1.05)\n",
    "plt.legend(handles=legenda_personalizzata, title='Classi Energetiche', loc='upper right')\n",
    "plt.show()\n",
    " "
   ]
  },
  {
   "cell_type": "markdown",
   "metadata": {},
   "source": [
    "# CONCENTRAZIONE CLASSI ENERGETICHE TOP 3 QUARTIERI PER NUMERO DI ANNUNCI"
   ]
  },
  {
   "cell_type": "code",
   "execution_count": null,
   "metadata": {},
   "outputs": [],
   "source": [
    "\n",
    "dati['energy_class'] = dati['energy_efficiency'].str.extract(r'(\\w)')[0].str.upper()\n",
    "top_3_quartieri = dati['neighborhood'].value_counts().head(3).index\n",
    "dati_top_3 = dati[dati['neighborhood'].isin(top_3_quartieri)]\n",
    "\n",
    "conteggi_energetici = dati_top_3.groupby(['neighborhood', 'energy_class']).size().unstack(fill_value=0)\n",
    "\n",
    "colori_classi_energetiche = ['#005700', '#3bb300', '#7fe800', '#ffcc00', '#ff8000', '#ff0000', '#a30000']\n",
    "\n",
    "fig, ax = plt.subplots(figsize=(10, 8))\n",
    "\n",
    "\n",
    "bar_width = 0.1\n",
    "indices = np.arange(len(conteggi_energetici)) * (1 + bar_width)\n",
    "\n",
    "for i, classe in enumerate(conteggi_energetici.columns):\n",
    "    ax.bar(indices + i * bar_width, conteggi_energetici[classe], width=bar_width, label=classe,\n",
    "           color=colori_classi_energetiche[i])\n",
    "\n",
    "for i in ax.patches:\n",
    "    ax.text(i.get_x() + i.get_width() / 2, i.get_height() + 0.7, str(round(i.get_height(), 2)),\n",
    "            ha='center', va='top')\n",
    "\n",
    "ax.set_xticks(indices + bar_width * 7/2 - bar_width / 2)\n",
    "ax.set_xticklabels(conteggi_energetici.index)\n",
    "ax.legend(title='Classe Energetica', bbox_to_anchor=(1.04, 1), loc='upper left')\n",
    "ax.set_xlabel('Quartiere')\n",
    "ax.set_ylabel('Numero di Annunci')\n",
    "\n",
    "plt.title('Concentrazione di Classi Energetiche nei Top 3 Quartieri per Numero di Annunci')\n",
    "plt.show()"
   ]
  },
  {
   "cell_type": "markdown",
   "metadata": {},
   "source": [
    "# NUMERO DI ANNUNCI PER CLASSE ENERGETICA"
   ]
  },
  {
   "cell_type": "code",
   "execution_count": null,
   "metadata": {},
   "outputs": [],
   "source": [
    "\n",
    "num_annunci_per_classe = dati.groupby('energy_class')['energy_class'].count().reset_index(name='numero_annunci')\n",
    "\n",
    "plt.figure(figsize=(12, 8))\n",
    "plt.bar(num_annunci_per_classe['energy_class'], num_annunci_per_classe['numero_annunci'], color=colori_classi_energetiche)\n",
    "plt.title('Numero di Annunci per Classe Energetica')\n",
    "plt.xlabel('Classe Energetica')\n",
    "plt.ylabel('Numero di Annunci')\n",
    "plt.xticks(rotation=45, ha='right')\n",
    "plt.tight_layout()\n",
    "plt.show()\n"
   ]
  },
  {
   "cell_type": "markdown",
   "metadata": {},
   "source": [
    "# COSTO MEDIO DELLE CASE PER CLASSE ENERGETICA"
   ]
  },
  {
   "cell_type": "code",
   "execution_count": null,
   "metadata": {},
   "outputs": [],
   "source": [
    "\n",
    "costo_medio_per_classe = dati.groupby('energy_class')['price'].mean().reset_index(name='costo_medio')\n",
    "\n",
    "plt.figure(figsize=(12, 8))\n",
    "plt.bar(costo_medio_per_classe['energy_class'], costo_medio_per_classe['costo_medio'], color=colori_classi_energetiche)\n",
    "plt.title('Costo Medio delle Case per Classe Energetica')\n",
    "plt.xlabel('Classe Energetica')\n",
    "plt.ylabel('Costo Medio (€)')\n",
    "plt.xticks(rotation=45, ha='right')\n",
    "plt.tight_layout()\n",
    "plt.show()\n"
   ]
  },
  {
   "cell_type": "markdown",
   "metadata": {},
   "source": [
    "# TOP 10 QUARTIERI PER NUMERO DI ANNUNCI"
   ]
  },
  {
   "cell_type": "code",
   "execution_count": null,
   "metadata": {},
   "outputs": [],
   "source": [
    "\n",
    "num_annunci_per_quartiere = dati.groupby('neighborhood')['index'].count().reset_index(name='numero_annunci')\n",
    "\n",
    "quartieri_top10_annunci = num_annunci_per_quartiere.sort_values(by='numero_annunci', ascending=False).head(10)\n",
    "\n",
    "plt.figure(figsize=(10, 8))\n",
    "plt.pie(quartieri_top10_annunci['numero_annunci'], labels=quartieri_top10_annunci['neighborhood'], autopct='%1.1f%%', startangle=140)\n",
    "plt.title('Top 10 Quartieri per Numero di Annunci')\n",
    "plt.axis('equal')\n",
    "plt.show()"
   ]
  },
  {
   "cell_type": "markdown",
   "metadata": {},
   "source": [
    "# COSTO MEDIO AL METRO QUADRO TOP 10 QUARTIERI PER NUMERO DI ANNUNCI"
   ]
  },
  {
   "cell_type": "code",
   "execution_count": null,
   "metadata": {},
   "outputs": [],
   "source": [
    "\n",
    "dati['costo_per_m2'] = dati['price'] / dati['m2']\n",
    "\n",
    "top_quartieri = dati['neighborhood'].value_counts().head(10).index\n",
    "data_top_quartieri = dati[dati['neighborhood'].isin(top_quartieri)]\n",
    "\n",
    "costo_medio_mq_top_quartieri = data_top_quartieri.groupby('neighborhood')['costo_per_m2'].mean().sort_values()\n",
    "\n",
    "colori_quartieri = {\n",
    "    'CITTÀ STUDI': '#8c564b',\n",
    "    'SAN SIRO': '#bcbd22',\n",
    "    'SEMPIONE': '#17becf',\n",
    "    'CERTOSA': '#1f77b4',\n",
    "    'CENTRALE': '#e377c2',\n",
    "    'BUENOS AIRES': '#7f7f7f',\n",
    "    'PAOLO SARPI': '#9467bd',\n",
    "    'VIGENTINO - FATIMA': '#ff7f0e',\n",
    "    'NAVIGLI - DARSENA': '#2ca02c',\n",
    "    'ISOLA': '#d62728'\n",
    "}\n",
    "\n",
    "colori_per_quartiere = [colori_quartieri[quartiere.upper()] for quartiere in costo_medio_mq_top_quartieri.index.str.upper()]\n",
    "\n",
    "plt.figure(figsize=(14, 8))\n",
    "plt.bar(costo_medio_mq_top_quartieri.index, costo_medio_mq_top_quartieri, color=colori_per_quartiere)\n",
    "plt.title('Costo Medio al Metro Quadro nei Top 10 Quartieri per Numero di Annunci', fontsize=16)\n",
    "plt.xlabel('Quartiere', fontsize=14)\n",
    "plt.ylabel('Costo Medio al Metro Quadro (€)', fontsize=14)\n",
    "plt.xticks(rotation=45)\n",
    "plt.tight_layout()\n",
    "plt.grid(True, which='both', linestyle='--', linewidth=0.5, zorder=0)\n",
    "\n",
    "plt.show()"
   ]
  },
  {
   "cell_type": "markdown",
   "metadata": {},
   "source": [
    "# DISTRIBUZIONE TIPOLOGIE DI CASE"
   ]
  },
  {
   "cell_type": "code",
   "execution_count": null,
   "metadata": {},
   "outputs": [],
   "source": [
    "\n",
    "\n",
    "traduzioni = {\n",
    "    'apartment': 'Appartamento',\n",
    "    'attic': 'Attico',\n",
    "    'project': 'Progetto',\n",
    "    'lofts': 'Loft',\n",
    "    'palace - building': 'Palazzo',\n",
    "    'detached villa': 'Villa Indipendente',\n",
    "    'terraced house': 'Casa a Schiera',\n",
    "    'open space': 'Open Space',\n",
    "    'detached house': 'Casa Indipendente',\n",
    "    'apartment in villa': 'Appartamento in Villa',\n",
    "    'multi-family townhouse': 'Casa Multifamiliare',\n",
    "    'semi-detached villa': 'Villa Bifamiliare',\n",
    "    'multi-family villa': 'Villa Multifamiliare'\n",
    "}\n",
    "tipologie_case = dati[dati['typology'].notna()]\n",
    "\n",
    "def estrai_prima_parte(stringa):\n",
    "    if isinstance(stringa, str):  \n",
    "        parte_divisa = stringa.split('|')\n",
    "        if len(parte_divisa) > 0:\n",
    "            prima_parte = parte_divisa[0].rstrip() \n",
    "            return prima_parte\n",
    "    return str(stringa)\n",
    "\n",
    "nuova_serie = tipologie_case['typology'].apply(estrai_prima_parte)\n",
    "\n",
    "dati['typology_it'] = nuova_serie.map(traduzioni)\n",
    "\n",
    "conteggi_tipologie = dati['typology_it'].value_counts()\n",
    "conteggi_tipologie['Altro'] = conteggi_tipologie[conteggi_tipologie < 10].sum()\n",
    "conteggi_tipologie = conteggi_tipologie[conteggi_tipologie >= 10]\n",
    "\n",
    "colori_tipologie = ['#000080', '#4169E1', '#1E90FF', '#00CED1', '#00FFFF', '#AEEEEE', 'dodgerblue', 'seagreen', 'salmon', 'lightcoral', 'khaki', 'mediumorchid']\n",
    "\n",
    "# Generazione della treemap\n",
    "plt.figure(figsize=(14, 8))\n",
    "squarify.plot(sizes=conteggi_tipologie.values, label=conteggi_tipologie.index, alpha=0.7, pad=True, color=colori_tipologie)\n",
    "plt.axis('off')\n",
    "plt.title('Distribuzione delle Tipologie di Case')\n",
    "i = 0;\n",
    "for label in plt.gca().get_children():\n",
    "    if i == 3:\n",
    "        continue\n",
    "    if isinstance(label, plt.Text):\n",
    "        i+=1\n",
    "        label.set_fontsize(18)\n",
    "plt.show()\n",
    "print(conteggi_tipologie)\n"
   ]
  },
  {
   "cell_type": "markdown",
   "metadata": {},
   "source": [
    "# DISTRIBUZIONE DEL COSTO MEDIO DELLE CASE TOP4 TIPOLOGIE"
   ]
  },
  {
   "cell_type": "code",
   "execution_count": null,
   "metadata": {},
   "outputs": [],
   "source": [
    "\n",
    "\n",
    "top4_tipologie = conteggi_tipologie.head(5).index.difference(['Progetto'])\n",
    "dati_top4_tipologie = dati[dati['typology_it'].isin(top4_tipologie)]\n",
    "colori_tipologie2 = ['#000080', '#4169E1', '#1E90FF', '#00FFFF']\n",
    "plt.figure(figsize=(14, 8))\n",
    "sns.boxplot(x='typology_it', y='price', data=dati_top4_tipologie, palette=colori_tipologie2, boxprops=dict(alpha=0.7))\n",
    "plt.title('Distribuzione del Costo Medio delle Case per le 4 Maggiori Tipologie')\n",
    "plt.xlabel('Tipologia di Case')\n",
    "plt.ylabel('Costo Medio (€)')\n",
    "plt.xticks(rotation=45)\n",
    "plt.grid(True, linestyle='--', alpha=0.7)\n",
    "plt.show()\n",
    "\n"
   ]
  },
  {
   "cell_type": "markdown",
   "metadata": {},
   "source": [
    "# DISTRIBUZIONE COSTI CASE CITTA STUDI"
   ]
  },
  {
   "cell_type": "code",
   "execution_count": null,
   "metadata": {},
   "outputs": [],
   "source": [
    "\n",
    "dati_citta_studi = dati[dati['neighborhood'] == 'città studi']\n",
    "\n",
    "plt.figure(figsize=(10, 6))\n",
    "sns.boxplot(y='price', data=dati_citta_studi, color='skyblue')\n",
    "plt.title('Distribuzione dei costi delle case in Città Studi')\n",
    "plt.xlabel('Città Studi')\n",
    "plt.ylabel('Costo delle Case (€)')\n",
    "plt.grid(True, linestyle='--', alpha=0.7)\n",
    "plt.show()\n",
    "\n"
   ]
  },
  {
   "cell_type": "markdown",
   "metadata": {},
   "source": [
    "# PREZZO MEDIO PER TIPO DI ANNUNCIO IN CITTA STUDI"
   ]
  },
  {
   "cell_type": "code",
   "execution_count": null,
   "metadata": {},
   "outputs": [],
   "source": [
    "df_citta_studi = dati[dati['neighborhood'] == 'città studi'].copy()\n",
    "\n",
    "df_citta_studi['rooms'] = pd.to_numeric(df_citta_studi['rooms'], errors='coerce').fillna(0).astype(int)\n",
    "\n",
    "df_filtered = df_citta_studi[df_citta_studi['rooms'].isin([1, 2, 3])].copy()\n",
    "\n",
    "room_map = {1: 'Monolocali', 2: 'Bilocali', 3: 'Trilocali'}\n",
    "df_filtered['Tipo'] = df_filtered['rooms'].map(room_map)\n",
    "\n",
    "avg_price_per_type = df_filtered.groupby('Tipo')['price'].mean().reset_index()\n",
    "\n",
    "avg_price_per_type = avg_price_per_type.sort_values(by='price')\n",
    "\n",
    "plt.figure(figsize=(10, 6))\n",
    "plt.bar(avg_price_per_type['Tipo'], avg_price_per_type['price'], color=['blue', 'orange', 'green'])\n",
    "plt.title('Prezzo medio per tipo di annuncio in Città Studi')\n",
    "plt.ylabel('Prezzo medio')\n",
    "plt.grid(True, linestyle='--', alpha=0.7)\n",
    "plt.show()\n",
    "\n"
   ]
  },
  {
   "cell_type": "markdown",
   "metadata": {},
   "source": [
    "# ANDAMENTO TEMPORALE COSTO MEDIO CASE RISPETTO ANNO DI COSTRUZIONE"
   ]
  },
  {
   "cell_type": "code",
   "execution_count": null,
   "metadata": {},
   "outputs": [],
   "source": [
    "\n",
    "dati_clean = dati.dropna(subset=['year_of_build', 'price'])\n",
    "dati_clean = dati_clean[dati_clean['year_of_build'] >= 1900]\n",
    "\n",
    "media_prezzi_per_anno = dati_clean.groupby('year_of_build')['price'].mean().reset_index()\n",
    "\n",
    "plt.figure(figsize=(14, 8))\n",
    "plt.plot(media_prezzi_per_anno['year_of_build'], media_prezzi_per_anno['price'], marker='o', linestyle='-')\n",
    "plt.title('Andamento Temporale del Costo Medio delle Case Rispetto all\\'Anno di Costruzione', fontsize=16)\n",
    "plt.xlabel('Anno di Costruzione', fontsize=14)\n",
    "plt.ylabel('Costo Medio (€)', fontsize=14)\n",
    "plt.grid(True, which='both', linestyle='--', linewidth=0.5)\n",
    "\n",
    "plt.xticks(rotation=45)\n",
    "plt.tight_layout()\n",
    "\n",
    "plt.show()\n"
   ]
  },
  {
   "cell_type": "code",
   "execution_count": null,
   "metadata": {},
   "outputs": [],
   "source": [
    "dati['price_per_m2'] = dati['price'] / dati['m2']\n",
    "\n",
    "quartieri_interesse = ['città studi', 'duomo', 'cascina merlata - musocco']\n",
    "metriche_quartieri = pd.DataFrame(columns=['Quartiere', 'Prezzo Medio', 'Numero Annunci', 'Spese Condominiali Medie'])\n",
    "\n",
    "for quartiere in quartieri_interesse:\n",
    "    quartiere_data = dati[dati['neighborhood'].str.lower() == quartiere]\n",
    "    prezzo_medio = quartiere_data['price_per_m2'].mean()\n",
    "    numero_annunci = len(quartiere_data)\n",
    "    spese_condominiali_medie = quartiere_data['condominium_expenses'].mean()\n",
    "    \n",
    "    metriche_quartieri = metriche_quartieri.append({\n",
    "        'Quartiere': quartiere,\n",
    "        'Prezzo Medio': prezzo_medio,\n",
    "        'Numero Annunci': numero_annunci,\n",
    "        'Spese Condominiali Medie': spese_condominiali_medie\n",
    "    }, ignore_index=True)\n",
    "\n",
    "metriche_normalizzate = metriche_quartieri.copy()\n",
    "for colonna in ['Prezzo Medio', 'Numero Annunci', 'Spese Condominiali Medie']:\n",
    "    max_val = metriche_normalizzate[colonna].max()\n",
    "    metriche_normalizzate[colonna] = metriche_normalizzate[colonna] / max_val\n",
    "\n",
    "num_vars = len(metriche_normalizzate.columns) - 1\n",
    "angles = [n / float(num_vars) * 2 * pi for n in range(num_vars)]\n",
    "angles += angles[:1]\n",
    "\n",
    "def crea_grafico_radar_aggiornato_distanza(quartiere, color):\n",
    "    fig, ax = plt.subplots(figsize=(6, 6), subplot_kw=dict(polar=True))\n",
    "    values = metriche_normalizzate[metriche_normalizzate['Quartiere'].str.lower() == quartiere.lower()].iloc[0, 1:].values.flatten().tolist()\n",
    "    values += values[:1]\n",
    "    ax.plot(angles, values, color=color, linewidth=2, linestyle='solid', label=quartiere)\n",
    "    ax.fill(angles, values, color=color, alpha=0.4)\n",
    "\n",
    "    ax.set_theta_offset(pi / 2)\n",
    "    ax.set_theta_direction(-1)\n",
    "    labels_aggiornati = ['Prezzo\\nMedio', 'Numero\\nAnnunci', 'Spese Condominiali\\nMedie']\n",
    "    plt.xticks(angles[:-1], labels_aggiornati, color='grey', size=12)\n",
    "\n",
    "    ax.tick_params(axis='x', which='major', pad=20)\n",
    "    ax.grid(True)\n",
    "    plt.title(quartiere.capitalize(), size=20, color=color, y=1.2)\n",
    "\n",
    "for quartiere, color in zip(quartieri_interesse, ['red', 'blue', 'green']):\n",
    "    crea_grafico_radar_aggiornato_distanza(quartiere, color)\n",
    "\n",
    "plt.show()\n"
   ]
  },
  {
   "cell_type": "markdown",
   "metadata": {},
   "source": [
    "# DISTRIBUZIONE DIMENSIONI PROPRIETA IN CITTA STUDI"
   ]
  },
  {
   "cell_type": "code",
   "execution_count": null,
   "metadata": {},
   "outputs": [],
   "source": [
    "\n",
    "citta_studi_data = dati[dati['neighborhood'].str.lower() == 'città studi']\n",
    "\n",
    "citta_studi_data = citta_studi_data[pd.to_numeric(citta_studi_data['m2'], errors='coerce').notnull()]\n",
    "citta_studi_data['m2'] = pd.to_numeric(citta_studi_data['m2'])\n",
    "Q1 = citta_studi_data['m2'].quantile(0.25)\n",
    "Q3 = citta_studi_data['m2'].quantile(0.75)\n",
    "IQR = Q3 - Q1\n",
    "filtro = (citta_studi_data['m2'] >= Q1 - 1.5 * IQR) & (citta_studi_data['m2'] <= Q3 + 1.5 * IQR)\n",
    "citta_studi_filtrato = citta_studi_data.loc[filtro]\n",
    "\n",
    "plt.figure(figsize=(10, 6))\n",
    "plt.hist(citta_studi_filtrato['m2'], bins=20, color='#006100', edgecolor='black')\n",
    "plt.title('Distribuzione delle Dimensioni delle Proprietà in Città Studi')\n",
    "plt.xlabel('Dimensioni (m²)')\n",
    "plt.ylabel('Numero di Proprietà')\n",
    "plt.grid(axis='y', alpha=0.75)\n",
    "plt.show()\n"
   ]
  },
  {
   "cell_type": "markdown",
   "metadata": {},
   "source": [
    "# TOP 10 QUARTIERI ECONOMICI E COSTOSI "
   ]
  },
  {
   "cell_type": "code",
   "execution_count": null,
   "metadata": {},
   "outputs": [],
   "source": [
    "dati['costo_medio_mq'] = dati['price'] / dati['m2']\n",
    "quartieri_stats = dati.groupby('neighborhood').agg(\n",
    "    costo_medio_mq=('costo_medio_mq', 'mean'),\n",
    "    numero_annunci=('neighborhood', 'count')\n",
    ").reset_index()\n",
    "\n",
    "\n",
    "quartieri_stats = quartieri_stats[quartieri_stats['numero_annunci'] >= 10]\n",
    "\n",
    "top10_costosi = quartieri_stats.sort_values(by='costo_medio_mq', ascending=False).head(10)\n",
    "top10_economici = quartieri_stats.sort_values(by='costo_medio_mq', ascending=True).head(10)\n",
    "\n",
    "def crea_grafico(quartieri, titolo):\n",
    "    ind = np.arange(len(quartieri))\n",
    "    width = 0.35\n",
    "\n",
    "    fig, ax1 = plt.subplots(figsize=(10, 8))\n",
    "    colors = plt.cm.tab10(np.linspace(0, 1, 10))\n",
    "    bars = ax1.bar(ind, quartieri['costo_medio_mq'], width, color=colors)\n",
    "\n",
    "    ax2 = ax1.twinx()\n",
    "    lines = ax2.plot(ind, quartieri['numero_annunci'], label='Numero Annunci', color='darkred', marker='o', linestyle='-')\n",
    "\n",
    "    ax1.set_xlabel('Quartiere')\n",
    "    ax1.set_ylabel('Costo Medio al Metro Quadro (€)', color='skyblue')\n",
    "    ax2.set_ylabel('Numero Annunci', color='darkred')\n",
    "    ax1.set_title(titolo)\n",
    "    ax1.set_xticks(ind)\n",
    "    ax1.set_xticklabels(quartieri['neighborhood'], rotation='vertical')\n",
    "    fig.legend(loc=\"upper right\", bbox_to_anchor=(1,1), bbox_transform=ax1.transAxes)\n",
    "    plt.tight_layout()\n",
    "\n",
    "crea_grafico(top10_costosi, 'Top 10 Quartieri piú costosi di Milano con almeno 10 annunci')\n",
    "crea_grafico(top10_economici, 'Top 10 Quartieri piú economici di Milano con almeno 10 annunci')\n",
    "\n",
    "plt.show()\n"
   ]
  },
  {
   "cell_type": "markdown",
   "metadata": {},
   "source": [
    "# SPESE CONDOMINIALI TOP 10 QUARTIERI "
   ]
  },
  {
   "cell_type": "code",
   "execution_count": null,
   "metadata": {},
   "outputs": [],
   "source": [
    "dati['condominium_expenses'] = pd.to_numeric(dati['condominium_expenses'], errors='coerce')\n",
    "\n",
    "quartieri_stats = dati.groupby('neighborhood').agg(\n",
    "    numero_annunci=('neighborhood', 'count'),\n",
    "    spese_condominiali_medie=('condominium_expenses', 'mean')\n",
    ").reset_index()\n",
    "\n",
    "top10_quartieri = quartieri_stats.sort_values(by='numero_annunci', ascending=False).head(10)\n",
    "\n",
    "top10_quartieri = top10_quartieri.sort_values(by='spese_condominiali_medie')\n",
    "\n",
    "plt.figure(figsize=(12, 8))\n",
    "colors = plt.cm.viridis(np.linspace(0, 1, 10))\n",
    "plt.bar(top10_quartieri['neighborhood'], top10_quartieri['spese_condominiali_medie'], color=colors)\n",
    "plt.title('Spese Condominiali Medie nei Top 10 Quartieri per Numero di Annunci')\n",
    "plt.xlabel('Quartiere')\n",
    "plt.ylabel('Spese Condominiali Medie (€)')\n",
    "plt.xticks(rotation=45, ha='right')\n",
    "plt.tight_layout()\n",
    "plt.show()\n"
   ]
  },
  {
   "cell_type": "markdown",
   "metadata": {},
   "source": [
    "# COSTO MEDIO AL METRO QUADRO TOP 10 QUARTERI"
   ]
  },
  {
   "cell_type": "code",
   "execution_count": null,
   "metadata": {},
   "outputs": [],
   "source": [
    "dati['costo_medio_mq'] = dati['price'] / dati['m2']\n",
    "\n",
    "quartieri_stats = dati.groupby('neighborhood').agg(\n",
    "    numero_annunci=('neighborhood', 'count'),\n",
    "    costo_medio_mq=('costo_medio_mq', 'mean')\n",
    ").reset_index()\n",
    "\n",
    "top10_quartieri = quartieri_stats.nlargest(10, 'numero_annunci')\n",
    "\n",
    "top10_quartieri_ordinati = top10_quartieri.sort_values(by='costo_medio_mq', ascending=True)\n",
    "colors = plt.cm.viridis(np.linspace(0, 1, 10))\n",
    "\n",
    "plt.figure(figsize=(12, 8))\n",
    "plt.bar(top10_quartieri_ordinati['neighborhood'], top10_quartieri_ordinati['costo_medio_mq'], color=colors)\n",
    "plt.title('Costo Medio al Metro Quadro nei Top 10 Quartieri per Numero di Annunci')\n",
    "plt.xlabel('Quartiere')\n",
    "plt.ylabel('Costo Medio al Metro Quadro (€)')\n",
    "plt.xticks(rotation=45, ha='right')\n",
    "plt.tight_layout()\n",
    "plt.show()"
   ]
  }
 ],
 "metadata": {
  "kernelspec": {
   "display_name": "Python 3",
   "language": "python",
   "name": "python3"
  },
  "language_info": {
   "codemirror_mode": {
    "name": "ipython",
    "version": 3
   },
   "file_extension": ".py",
   "mimetype": "text/x-python",
   "name": "python",
   "nbconvert_exporter": "python",
   "pygments_lexer": "ipython3",
   "version": "3.9.7"
  }
 },
 "nbformat": 4,
 "nbformat_minor": 2
}
